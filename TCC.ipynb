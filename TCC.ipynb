{
  "nbformat": 4,
  "nbformat_minor": 0,
  "metadata": {
    "colab": {
      "provenance": []
    },
    "kernelspec": {
      "name": "python3",
      "display_name": "Python 3"
    },
    "language_info": {
      "name": "python"
    },
    "accelerator": "TPU",
    "gpuClass": "standard"
  },
  "cells": [
    {
      "cell_type": "code",
      "execution_count": null,
      "metadata": {
        "id": "dIaVA8PRurKQ"
      },
      "outputs": [],
      "source": [
        "import pandas as pd\n",
        "import numpy as np\n",
        "import matplotlib as plt \n",
        "import seaborn as sns\n",
        "from datetime import timedelta"
      ]
    },
    {
      "cell_type": "code",
      "source": [
        "# Carrega o arquivo CSV em um DataFrame\n",
        "dados = pd.read_csv(\"/content/cardio_train.csv\", sep=\";\")\n",
        "# Renomeia as colunas do DataFrame\n",
        "dados.columns = [\"Id\", \"Idade\", \"Genero\", \"Altura\", \"Peso\", \"Pressao_arterial_sistolica\",\"Pressao_arterial_diastolica\",\n",
        "                 \"Colesterol\", \"Glicose\", \"Fumante\", \"Consumo_de_alcool\", \"Atividade_fisica\", \"Doenca_cardiovascular\"]\n",
        "# Exibe informações sobre o DataFrame\n",
        "print(dados.info())"
      ],
      "metadata": {
        "id": "5QSuAToqB0PN"
      },
      "execution_count": null,
      "outputs": []
    },
    {
      "cell_type": "code",
      "source": [
        "from sklearn.metrics import accuracy_score, precision_score, recall_score, f1_score\n",
        "\n",
        "# Função para calculo dos parametros\n",
        "def calculo_estatistico(confusion_matrix):\n",
        "    true_negative = confusion_matrix[0, 0]\n",
        "    false_positive = confusion_matrix[0, 1]\n",
        "    false_negative = confusion_matrix[1, 0]\n",
        "    true_positive = confusion_matrix[1, 1]\n",
        "\n",
        "    # Cálculo da Acurácia\n",
        "    accuracy = (true_negative + true_positive) / confusion_matrix.sum()\n",
        "\n",
        "    # Cálculo da Precisão\n",
        "    precision = true_positive / (true_positive + false_positive)\n",
        "\n",
        "    # Cálculo do Recall\n",
        "    recall = true_positive / (true_positive + false_negative)\n",
        "\n",
        "    # Cálculo do F1-score\n",
        "    f1 = 2 * (precision * recall) / (precision + recall)\n",
        "\n",
        "    print(\"Acurácia:\", accuracy)\n",
        "    print(\"Precisão:\", precision)\n",
        "    print(\"Recall:\", recall)\n",
        "    print(\"F1-score:\", f1)"
      ],
      "metadata": {
        "id": "UuhwA8l1m55K"
      },
      "execution_count": null,
      "outputs": []
    },
    {
      "cell_type": "markdown",
      "source": [
        "## Tratamento de Dados"
      ],
      "metadata": {
        "id": "HytafgeUufly"
      }
    },
    {
      "cell_type": "code",
      "source": [
        "# Remover a coluna \"id\" do DataFrame\n",
        "dados.drop(\"Id\", axis=1, inplace=True)\n",
        "\n",
        "# Remover linhas duplicadas do DataFrame\n",
        "dados.drop_duplicates(inplace=True)\n",
        "\n",
        "# Converter a coluna \"Idade\" de dias para anos\n",
        "dados['Idade'] = dados['Idade'].apply(lambda x: timedelta(days=x) / timedelta(days=365.25))\n",
        "\n",
        "# Calcular o Índice de Massa Corporal (IMC) e adicionar uma nova coluna \"IMC\" ao DataFrame\n",
        "dados[\"IMC\"] = dados[\"Peso\"] / (dados[\"Altura\"]/100)**2\n",
        "\n",
        "# Mudar ordem das colunas\n",
        "dados = dados[[\"Idade\", \"Genero\", \"Altura\", \"Peso\",\"IMC\", \"Pressao_arterial_sistolica\",\n",
        "                 \"Pressao_arterial_diastolica\", \"Colesterol\", \"Glicose\", \"Fumante\", \"Consumo_de_alcool\", \"Atividade_fisica\", \"Doenca_cardiovascular\"]]\n",
        "\n",
        "dados.head()"
      ],
      "metadata": {
        "id": "91MK27dUxspH"
      },
      "execution_count": null,
      "outputs": []
    },
    {
      "cell_type": "code",
      "source": [
        "dados.describe()"
      ],
      "metadata": {
        "id": "Oxga2aMDATzY"
      },
      "execution_count": null,
      "outputs": []
    },
    {
      "cell_type": "code",
      "source": [
        "# Criação do filtro para selecionar linhas com base em condições específicas\n",
        "filtro = ((dados[\"Pressao_arterial_sistolica\"] > 250) | (dados[\"Pressao_arterial_sistolica\"] < 50) | \n",
        "          (dados[\"Pressao_arterial_diastolica\"] > 170) | (dados[\"Pressao_arterial_diastolica\"] < 30) | \n",
        "          (dados[\"IMC\"] < 10) | (dados[\"IMC\"] > 50))\n",
        "\n",
        "# Aplicação do filtro ao DataFrame para remover as linhas que não atendem às condições\n",
        "dados = dados[~filtro]\n",
        "\n",
        "# Exibição das primeiras linhas do DataFrame após a aplicação do filtro\n",
        "dados.head()"
      ],
      "metadata": {
        "id": "gqNCR7f25R9W"
      },
      "execution_count": null,
      "outputs": []
    },
    {
      "cell_type": "code",
      "source": [
        "dados.describe()"
      ],
      "metadata": {
        "id": "wnAf2pNZzIMG"
      },
      "execution_count": null,
      "outputs": []
    },
    {
      "cell_type": "code",
      "source": [
        "sns.set(font_scale = 1.3, rc = {'figure.figsize':(20,20)})\n",
        "eixo = dados.hist(bins = 70)\n"
      ],
      "metadata": {
        "id": "6Gt9shKR6Ou2"
      },
      "execution_count": null,
      "outputs": []
    },
    {
      "cell_type": "markdown",
      "source": [
        "Modelo"
      ],
      "metadata": {
        "id": "Oee5jXD1xRo9"
      }
    },
    {
      "cell_type": "code",
      "source": [
        "from sklearn.model_selection import train_test_split\n",
        "\n",
        "# A variável alvo (Doenca_cardiovascular) é separada das demais características\n",
        "previsor = np.array(dados[\"Doenca_cardiovascular\"])\n",
        "caracteristicas = np.array(dados.drop(\"Doenca_cardiovascular\", axis=1))\n",
        "\n",
        "# A proporção para a divisão dos dados de teste é definida\n",
        "test_size = 0.2  # 20% dos dados serão usados para teste\n",
        "\n",
        "# A semente (random_state) é definida para garantir reprodutibilidade\n",
        "random_state = 42  # Valor fixo para obter a mesma divisão dos dados toda vez que o código for executado\n",
        "\n",
        "# Os dados são divididos em conjuntos de treinamento e teste\n",
        "x_treino, x_teste, y_treino, y_teste = train_test_split(caracteristicas, previsor, test_size=test_size, random_state=random_state)\n",
        "\n",
        "print(f'{len(caracteristicas)}\\n{len(previsor)}')\n",
        "print(f'x_treino {len(x_treino)}, x_teste {len(x_teste)}')\n",
        "print(f'x_treino {len(x_treino)/len(caracteristicas)}, x_teste {len(x_teste)/len(caracteristicas)}')"
      ],
      "metadata": {
        "id": "B0a9rwY7xX3s"
      },
      "execution_count": null,
      "outputs": []
    },
    {
      "cell_type": "markdown",
      "source": [
        "## Regressão Logistica"
      ],
      "metadata": {
        "id": "RdEoMxpHuWoj"
      }
    },
    {
      "cell_type": "code",
      "source": [
        "from sklearn.linear_model import LogisticRegression\n",
        "\n",
        "# Cria uma instância da classe LogisticRegression com os parâmetros especificados\n",
        "funcao_reg_logis = LogisticRegression(penalty='l2', C=1.0, solver='sag', max_iter=1000)\n",
        "\n",
        "# Treina o modelo utilizando os dados de treino\n",
        "funcao_reg_logis.fit(x_treino, y_treino)"
      ],
      "metadata": {
        "colab": {
          "base_uri": "https://localhost:8080/",
          "height": 74
        },
        "id": "3DbwCzjPwOrL",
        "outputId": "071c0b17-ed90-4cbd-cfa6-c14dcdafab3d"
      },
      "execution_count": null,
      "outputs": [
        {
          "output_type": "execute_result",
          "data": {
            "text/plain": [
              "LogisticRegression(max_iter=1000, solver='sag')"
            ],
            "text/html": [
              "<style>#sk-container-id-2 {color: black;background-color: white;}#sk-container-id-2 pre{padding: 0;}#sk-container-id-2 div.sk-toggleable {background-color: white;}#sk-container-id-2 label.sk-toggleable__label {cursor: pointer;display: block;width: 100%;margin-bottom: 0;padding: 0.3em;box-sizing: border-box;text-align: center;}#sk-container-id-2 label.sk-toggleable__label-arrow:before {content: \"▸\";float: left;margin-right: 0.25em;color: #696969;}#sk-container-id-2 label.sk-toggleable__label-arrow:hover:before {color: black;}#sk-container-id-2 div.sk-estimator:hover label.sk-toggleable__label-arrow:before {color: black;}#sk-container-id-2 div.sk-toggleable__content {max-height: 0;max-width: 0;overflow: hidden;text-align: left;background-color: #f0f8ff;}#sk-container-id-2 div.sk-toggleable__content pre {margin: 0.2em;color: black;border-radius: 0.25em;background-color: #f0f8ff;}#sk-container-id-2 input.sk-toggleable__control:checked~div.sk-toggleable__content {max-height: 200px;max-width: 100%;overflow: auto;}#sk-container-id-2 input.sk-toggleable__control:checked~label.sk-toggleable__label-arrow:before {content: \"▾\";}#sk-container-id-2 div.sk-estimator input.sk-toggleable__control:checked~label.sk-toggleable__label {background-color: #d4ebff;}#sk-container-id-2 div.sk-label input.sk-toggleable__control:checked~label.sk-toggleable__label {background-color: #d4ebff;}#sk-container-id-2 input.sk-hidden--visually {border: 0;clip: rect(1px 1px 1px 1px);clip: rect(1px, 1px, 1px, 1px);height: 1px;margin: -1px;overflow: hidden;padding: 0;position: absolute;width: 1px;}#sk-container-id-2 div.sk-estimator {font-family: monospace;background-color: #f0f8ff;border: 1px dotted black;border-radius: 0.25em;box-sizing: border-box;margin-bottom: 0.5em;}#sk-container-id-2 div.sk-estimator:hover {background-color: #d4ebff;}#sk-container-id-2 div.sk-parallel-item::after {content: \"\";width: 100%;border-bottom: 1px solid gray;flex-grow: 1;}#sk-container-id-2 div.sk-label:hover label.sk-toggleable__label {background-color: #d4ebff;}#sk-container-id-2 div.sk-serial::before {content: \"\";position: absolute;border-left: 1px solid gray;box-sizing: border-box;top: 0;bottom: 0;left: 50%;z-index: 0;}#sk-container-id-2 div.sk-serial {display: flex;flex-direction: column;align-items: center;background-color: white;padding-right: 0.2em;padding-left: 0.2em;position: relative;}#sk-container-id-2 div.sk-item {position: relative;z-index: 1;}#sk-container-id-2 div.sk-parallel {display: flex;align-items: stretch;justify-content: center;background-color: white;position: relative;}#sk-container-id-2 div.sk-item::before, #sk-container-id-2 div.sk-parallel-item::before {content: \"\";position: absolute;border-left: 1px solid gray;box-sizing: border-box;top: 0;bottom: 0;left: 50%;z-index: -1;}#sk-container-id-2 div.sk-parallel-item {display: flex;flex-direction: column;z-index: 1;position: relative;background-color: white;}#sk-container-id-2 div.sk-parallel-item:first-child::after {align-self: flex-end;width: 50%;}#sk-container-id-2 div.sk-parallel-item:last-child::after {align-self: flex-start;width: 50%;}#sk-container-id-2 div.sk-parallel-item:only-child::after {width: 0;}#sk-container-id-2 div.sk-dashed-wrapped {border: 1px dashed gray;margin: 0 0.4em 0.5em 0.4em;box-sizing: border-box;padding-bottom: 0.4em;background-color: white;}#sk-container-id-2 div.sk-label label {font-family: monospace;font-weight: bold;display: inline-block;line-height: 1.2em;}#sk-container-id-2 div.sk-label-container {text-align: center;}#sk-container-id-2 div.sk-container {/* jupyter's `normalize.less` sets `[hidden] { display: none; }` but bootstrap.min.css set `[hidden] { display: none !important; }` so we also need the `!important` here to be able to override the default hidden behavior on the sphinx rendered scikit-learn.org. See: https://github.com/scikit-learn/scikit-learn/issues/21755 */display: inline-block !important;position: relative;}#sk-container-id-2 div.sk-text-repr-fallback {display: none;}</style><div id=\"sk-container-id-2\" class=\"sk-top-container\"><div class=\"sk-text-repr-fallback\"><pre>LogisticRegression(max_iter=1000, solver=&#x27;sag&#x27;)</pre><b>In a Jupyter environment, please rerun this cell to show the HTML representation or trust the notebook. <br />On GitHub, the HTML representation is unable to render, please try loading this page with nbviewer.org.</b></div><div class=\"sk-container\" hidden><div class=\"sk-item\"><div class=\"sk-estimator sk-toggleable\"><input class=\"sk-toggleable__control sk-hidden--visually\" id=\"sk-estimator-id-2\" type=\"checkbox\" checked><label for=\"sk-estimator-id-2\" class=\"sk-toggleable__label sk-toggleable__label-arrow\">LogisticRegression</label><div class=\"sk-toggleable__content\"><pre>LogisticRegression(max_iter=1000, solver=&#x27;sag&#x27;)</pre></div></div></div></div></div>"
            ]
          },
          "metadata": {},
          "execution_count": 28
        }
      ]
    },
    {
      "cell_type": "code",
      "source": [
        "# Fazendo previsões com o modelo final\n",
        "previsoes_log = funcao_reg_logis.predict(x_teste)"
      ],
      "metadata": {
        "id": "Bd1mkmSUysz0"
      },
      "execution_count": null,
      "outputs": []
    },
    {
      "cell_type": "code",
      "source": [
        "from sklearn.metrics import confusion_matrix\n",
        "\n",
        "# Calculando a matriz de confusão comparando os rótulos verdadeiros (y_teste) com as previsões (previsoes_log)\n",
        "matriz_confusao_log = confusion_matrix(y_teste, previsoes_log)\n",
        "\n",
        "print(matriz_confusao_log)"
      ],
      "metadata": {
        "colab": {
          "base_uri": "https://localhost:8080/"
        },
        "id": "CmBe3jFzhzBm",
        "outputId": "59b60ee0-55f1-4ce8-9d89-83724c6d4a4d"
      },
      "execution_count": null,
      "outputs": [
        {
          "output_type": "stream",
          "name": "stdout",
          "text": [
            "[[1978  496]\n",
            " [ 789 1646]]\n"
          ]
        }
      ]
    },
    {
      "cell_type": "code",
      "source": [
        "calculo_estatistico(matriz_confusao_log)"
      ],
      "metadata": {
        "id": "HV0DQOalq3Cq"
      },
      "execution_count": null,
      "outputs": []
    },
    {
      "cell_type": "code",
      "source": [
        "from sklearn.metrics import classification_report\n",
        "print(classification_report(y_teste, previsoes_log))"
      ],
      "metadata": {
        "id": "JAlfeVGuy833"
      },
      "execution_count": null,
      "outputs": []
    },
    {
      "cell_type": "markdown",
      "source": [
        "## KNN"
      ],
      "metadata": {
        "id": "eJyG-sDJulwo"
      }
    },
    {
      "cell_type": "code",
      "source": [
        "from sklearn.neighbors import KNeighborsClassifier\n",
        "from sklearn.model_selection import GridSearchCV\n",
        "\n",
        "# Definindo os valores  para os hiperparâmetros\n",
        "param_grid = {\n",
        "    'n_neighbors': [3, 5, 7, 9, 11],  # Valores para o número de vizinhos\n",
        "    'weights': ['uniform', 'distance'],  # Opções para o peso dos vizinhos\n",
        "    'metric': ['euclidean', 'manhattan', 'minkowski'],  # Métricas de distância\n",
        "    'p': [1, 2]  # Valores para o parâmetro p da métrica de Minkowski\n",
        "}\n",
        "\n",
        "# Criando o objeto do modelo de KNN\n",
        "modelo_knn = KNeighborsClassifier()\n",
        "\n",
        "# Realizando a busca pelos melhores hiperparâmetros usando validação cruzada\n",
        "grid_search = GridSearchCV(modelo_knn, param_grid, cv=5)\n",
        "\n",
        "# Treinando o modelo com os dados de treinamento\n",
        "grid_search.fit(x_treino, y_treino)\n",
        "\n",
        "# Obtendo os melhores hiperparâmetros encontrados\n",
        "melhores_hiperparametros = grid_search.best_params_\n",
        "\n",
        "# Criando o modelo final com os melhores hiperparâmetros\n",
        "melhor_modelo_knn = KNeighborsClassifier(**melhores_hiperparametros)\n",
        "\n",
        "# Treinando o modelo final com todos os dados de treinamento\n",
        "melhor_modelo_knn.fit(x_treino, y_treino)"
      ],
      "metadata": {
        "id": "-6V58l-pgCuS"
      },
      "execution_count": null,
      "outputs": []
    },
    {
      "cell_type": "code",
      "source": [
        "# Fazendo previsões com o modelo final\n",
        "previsoes_knn = melhor_modelo_knn.predict(x_teste)"
      ],
      "metadata": {
        "id": "yZrxfIHABJTC"
      },
      "execution_count": null,
      "outputs": []
    },
    {
      "cell_type": "code",
      "source": [
        "# Calculando a matriz de confusão comparando os rótulos verdadeiros (y_teste) com as previsões (previsoes_knn)\n",
        "matriz_confusao_knn = confusion_matrix(y_teste, previsoes_knn)\n",
        "\n",
        "print(matriz_confusao_knn)"
      ],
      "metadata": {
        "id": "GLml3NOQ_y0G"
      },
      "execution_count": null,
      "outputs": []
    },
    {
      "cell_type": "code",
      "source": [
        "calculo_estatistico(matriz_confusao_knn)"
      ],
      "metadata": {
        "id": "VIh4W1v1sYi3"
      },
      "execution_count": null,
      "outputs": []
    },
    {
      "cell_type": "code",
      "source": [
        "from sklearn.metrics import classification_report\n",
        "print(classification_report(y_teste, previsoes_knn))"
      ],
      "metadata": {
        "id": "KRDKnyPbAsH6"
      },
      "execution_count": null,
      "outputs": []
    },
    {
      "cell_type": "markdown",
      "source": [
        "## RANDON FLOREST"
      ],
      "metadata": {
        "id": "yhpAxN2tTCtr"
      }
    },
    {
      "cell_type": "code",
      "source": [
        "from sklearn.ensemble import RandomForestClassifier\n",
        "from sklearn.model_selection import GridSearchCV\n",
        "\n",
        "# Definindo os valores possíveis para os hiperparâmetros\n",
        "param_grid = {\n",
        "    'n_estimators': [100, 200],  # Número de árvores na floresta\n",
        "    'max_depth': [None, 5],  # Profundidade máxima das árvores\n",
        "    'min_samples_split': [2, 5],  # Número mínimo de amostras necessárias para dividir um nó\n",
        "    'min_samples_leaf': [1, 2],  # Número mínimo de amostras necessárias em um nó folha\n",
        "    'max_features': ['sqrt', None]  # Número de features a serem consideradas ao procurar a melhor divisão\n",
        "}\n",
        "# Criando o modelo de Random Forest\n",
        "modelo_rf = RandomForestClassifier()\n",
        "# Realizando a busca pelos melhores hiperparâmetros usando validação cruzada\n",
        "grid_search = GridSearchCV(modelo_rf, param_grid, cv=5)\n",
        "# Treinando o modelo com os dados de treinamento\n",
        "grid_search.fit(x_treino, y_treino)\n",
        "# Obtendo os melhores hiperparâmetros encontrados\n",
        "melhores_hiperparametros = grid_search.best_params_\n",
        "# Criando o modelo final com os melhores hiperparâmetros\n",
        "melhor_modelo_rf = RandomForestClassifier(**melhores_hiperparametros)\n",
        "# Treinando o modelo final com todos os dados de treinamento\n",
        "melhor_modelo_rf.fit(x_treino, y_treino)"
      ],
      "metadata": {
        "id": "Xwrs4TmYTH06"
      },
      "execution_count": null,
      "outputs": []
    },
    {
      "cell_type": "code",
      "source": [
        "# Realizando as previsões com os dados de teste\n",
        "previsoes_rf = melhor_modelo_rf.predict(x_teste)"
      ],
      "metadata": {
        "id": "R37zBXrpTREw"
      },
      "execution_count": null,
      "outputs": []
    },
    {
      "cell_type": "code",
      "source": [
        "# Calculando a matriz de confusão comparando os rótulos verdadeiros (y_teste) com as previsões (previsoes_rf)\n",
        "matriz_confusao_rf = confusion_matrix(y_teste, previsoes_rf)\n",
        "\n",
        "print(matriz_confusao_rf)"
      ],
      "metadata": {
        "id": "gS8BjFPJTgEI"
      },
      "execution_count": null,
      "outputs": []
    },
    {
      "cell_type": "code",
      "source": [
        "calculo_estatistico(matriz_confusao_rf)"
      ],
      "metadata": {
        "id": "r_Jr5fVDpDla"
      },
      "execution_count": null,
      "outputs": []
    },
    {
      "cell_type": "code",
      "source": [
        "from sklearn.metrics import classification_report\n",
        "print(classification_report(y_teste, previsoes_rf))"
      ],
      "metadata": {
        "id": "PgK6uyvwTg-k"
      },
      "execution_count": null,
      "outputs": []
    }
  ]
}